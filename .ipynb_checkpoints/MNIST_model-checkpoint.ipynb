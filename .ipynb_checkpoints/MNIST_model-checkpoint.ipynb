{
 "cells": [
  {
   "cell_type": "code",
   "execution_count": 80,
   "metadata": {
    "collapsed": false
   },
   "outputs": [],
   "source": [
    "import numpy as np\n",
    "from matplotlib import pyplot as plt\n",
    "%matplotlib inline\n",
    "import pandas as pd\n",
    "import keras\n",
    "import cv2\n",
    "\n",
    "from keras.models import Sequential\n",
    "from keras.layers import Dense, Activation, Reshape, Convolution2D, Flatten, MaxPooling2D, Dropout\n",
    "from keras.utils import np_utils"
   ]
  },
  {
   "cell_type": "code",
   "execution_count": 9,
   "metadata": {
    "collapsed": false
   },
   "outputs": [
    {
     "name": "stdout",
     "output_type": "stream",
     "text": [
      "(60000, 785)\n",
      "(60000, 784) (60000,)\n"
     ]
    }
   ],
   "source": [
    "ds = pd.read_csv('data/mnist_train.csv',header=None)\n",
    "data = ds.values\n",
    "print data.shape\n",
    "X_data = data[:, 1:]\n",
    "y_data = data[:, 0]\n",
    "print X_data.shape, y_data.shape"
   ]
  },
  {
   "cell_type": "code",
   "execution_count": 38,
   "metadata": {
    "collapsed": false
   },
   "outputs": [
    {
     "name": "stdout",
     "output_type": "stream",
     "text": [
      "(10000, 785)\n",
      "(10000, 784) (10000,)\n"
     ]
    }
   ],
   "source": [
    "dt = pd.read_csv('data/mnist_test.csv',header=None)\n",
    "dv = dt.values\n",
    "print dv.shape\n",
    "X_test = dv[:, 1:]\n",
    "y_test = dv[:, 0]\n",
    "print X_test.shape, y_test.shape"
   ]
  },
  {
   "cell_type": "code",
   "execution_count": 24,
   "metadata": {
    "collapsed": false
   },
   "outputs": [
    {
     "name": "stdout",
     "output_type": "stream",
     "text": [
      "(60000, 784) (60000, 10)\n"
     ]
    }
   ],
   "source": [
    "\n",
    "# X_data = X_data/255.0\n",
    "\n",
    "X_data = (X_data-X_data.mean(axis=0))/(X_data.std(axis=0) + 1e-8)\n",
    "y = np_utils.to_categorical(y_data)\n",
    "# print y[4]\n",
    "print X_data.shape, y.shape"
   ]
  },
  {
   "cell_type": "code",
   "execution_count": 39,
   "metadata": {
    "collapsed": false
   },
   "outputs": [
    {
     "name": "stdout",
     "output_type": "stream",
     "text": [
      "(10000, 784) (10000, 10)\n"
     ]
    }
   ],
   "source": [
    "X_test = (X_test-X_test.mean(axis=0))/(X_test.std(axis=0) + 1e-8)\n",
    "y_test = np_utils.to_categorical(y_test)\n",
    "print X_test.shape, y_test.shape"
   ]
  },
  {
   "cell_type": "code",
   "execution_count": 40,
   "metadata": {
    "collapsed": false
   },
   "outputs": [],
   "source": [
    "# split = int(0.85*X_data.shape[0])\n",
    "\n",
    "# X_train = X_data[:split]\n",
    "# y_train = y[:split]\n",
    "# X_test = X_data[split:]\n",
    "# y_test = y[split:]\n",
    "\n",
    "# print X_train.shape, y_train.shape\n",
    "# print X_test.shape, y_test.shape"
   ]
  },
  {
   "cell_type": "markdown",
   "metadata": {},
   "source": [
    "<h1> Feed Forward Model using Keras </h1>"
   ]
  },
  {
   "cell_type": "code",
   "execution_count": 45,
   "metadata": {
    "collapsed": false
   },
   "outputs": [
    {
     "name": "stdout",
     "output_type": "stream",
     "text": [
      "____________________________________________________________________________________________________\n",
      "Layer (type)                     Output Shape          Param #     Connected to                     \n",
      "====================================================================================================\n",
      "dense_7 (Dense)                  (None, 512)           401920      dense_input_4[0][0]              \n",
      "____________________________________________________________________________________________________\n",
      "activation_7 (Activation)        (None, 512)           0           dense_7[0][0]                    \n",
      "____________________________________________________________________________________________________\n",
      "dense_8 (Dense)                  (None, 10)            5130        activation_7[0][0]               \n",
      "____________________________________________________________________________________________________\n",
      "activation_8 (Activation)        (None, 10)            0           dense_8[0][0]                    \n",
      "====================================================================================================\n",
      "Total params: 407050\n",
      "____________________________________________________________________________________________________\n"
     ]
    }
   ],
   "source": [
    "model = Sequential()\n",
    "\n",
    "model.add(Dense(512, input_shape=(784,)))\n",
    "model.add(Activation('relu'))\n",
    "\n",
    "model.add(Dense(10))\n",
    "model.add(Activation('softmax'))\n",
    "model.summary()"
   ]
  },
  {
   "cell_type": "code",
   "execution_count": 46,
   "metadata": {
    "collapsed": false
   },
   "outputs": [],
   "source": [
    "model.compile(loss='categorical_crossentropy', optimizer='adadelta', metrics=['accuracy'])"
   ]
  },
  {
   "cell_type": "code",
   "execution_count": 47,
   "metadata": {
    "collapsed": false
   },
   "outputs": [
    {
     "name": "stdout",
     "output_type": "stream",
     "text": [
      "<keras.layers.core.Dense object at 0x7f9fe33f3550>\n"
     ]
    }
   ],
   "source": [
    "print model.layers[0]"
   ]
  },
  {
   "cell_type": "code",
   "execution_count": 48,
   "metadata": {
    "collapsed": false,
    "scrolled": false
   },
   "outputs": [
    {
     "name": "stdout",
     "output_type": "stream",
     "text": [
      "Train on 60000 samples, validate on 10000 samples\n",
      "Epoch 1/30\n",
      "60000/60000 [==============================] - 5s - loss: 0.3170 - acc: 0.9117 - val_loss: 0.1660 - val_acc: 0.9528\n",
      "Epoch 2/30\n",
      "60000/60000 [==============================] - 6s - loss: 0.1314 - acc: 0.9634 - val_loss: 0.1275 - val_acc: 0.9648\n",
      "Epoch 3/30\n",
      "60000/60000 [==============================] - 6s - loss: 0.0894 - acc: 0.9751 - val_loss: 0.1103 - val_acc: 0.9693\n",
      "Epoch 4/30\n",
      "60000/60000 [==============================] - 6s - loss: 0.0655 - acc: 0.9821 - val_loss: 0.0998 - val_acc: 0.9743\n",
      "Epoch 5/30\n",
      "60000/60000 [==============================] - 6s - loss: 0.0501 - acc: 0.9873 - val_loss: 0.0928 - val_acc: 0.9755\n",
      "Epoch 6/30\n",
      "60000/60000 [==============================] - 6s - loss: 0.0388 - acc: 0.9907 - val_loss: 0.0914 - val_acc: 0.9764\n",
      "Epoch 7/30\n",
      "60000/60000 [==============================] - 6s - loss: 0.0306 - acc: 0.9935 - val_loss: 0.0883 - val_acc: 0.9775\n",
      "Epoch 8/30\n",
      "60000/60000 [==============================] - 6s - loss: 0.0246 - acc: 0.9952 - val_loss: 0.0889 - val_acc: 0.9773\n",
      "Epoch 9/30\n",
      "60000/60000 [==============================] - 6s - loss: 0.0196 - acc: 0.9968 - val_loss: 0.0886 - val_acc: 0.9774\n",
      "Epoch 10/30\n",
      "60000/60000 [==============================] - 7s - loss: 0.0160 - acc: 0.9976 - val_loss: 0.0874 - val_acc: 0.9790\n",
      "Epoch 11/30\n",
      "60000/60000 [==============================] - 6s - loss: 0.0128 - acc: 0.9984 - val_loss: 0.0889 - val_acc: 0.9783\n",
      "Epoch 12/30\n",
      "60000/60000 [==============================] - 6s - loss: 0.0106 - acc: 0.9988 - val_loss: 0.0878 - val_acc: 0.9790\n",
      "Epoch 13/30\n",
      "60000/60000 [==============================] - 7s - loss: 0.0088 - acc: 0.9990 - val_loss: 0.0873 - val_acc: 0.9793\n",
      "Epoch 14/30\n",
      "60000/60000 [==============================] - 7s - loss: 0.0072 - acc: 0.9995 - val_loss: 0.0923 - val_acc: 0.9779\n",
      "Epoch 15/30\n",
      "60000/60000 [==============================] - 7s - loss: 0.0062 - acc: 0.9995 - val_loss: 0.0909 - val_acc: 0.9788\n",
      "Epoch 16/30\n",
      "60000/60000 [==============================] - 8s - loss: 0.0053 - acc: 0.9996 - val_loss: 0.0937 - val_acc: 0.9777\n",
      "Epoch 17/30\n",
      "60000/60000 [==============================] - 8s - loss: 0.0046 - acc: 0.9998 - val_loss: 0.0929 - val_acc: 0.9794\n",
      "Epoch 18/30\n",
      "60000/60000 [==============================] - 6s - loss: 0.0041 - acc: 0.9998 - val_loss: 0.0952 - val_acc: 0.9794\n",
      "Epoch 19/30\n",
      "60000/60000 [==============================] - 7s - loss: 0.0037 - acc: 0.9998 - val_loss: 0.0954 - val_acc: 0.9791\n",
      "Epoch 20/30\n",
      "60000/60000 [==============================] - 8s - loss: 0.0033 - acc: 0.9999 - val_loss: 0.0975 - val_acc: 0.9800\n",
      "Epoch 21/30\n",
      "60000/60000 [==============================] - 7s - loss: 0.0031 - acc: 0.9999 - val_loss: 0.0996 - val_acc: 0.9786\n",
      "Epoch 22/30\n",
      "60000/60000 [==============================] - 8s - loss: 0.0029 - acc: 0.9999 - val_loss: 0.1010 - val_acc: 0.9789\n",
      "Epoch 23/30\n",
      "60000/60000 [==============================] - 7s - loss: 0.0028 - acc: 0.9999 - val_loss: 0.1014 - val_acc: 0.9796\n",
      "Epoch 24/30\n",
      "60000/60000 [==============================] - 7s - loss: 0.0026 - acc: 0.9999 - val_loss: 0.1032 - val_acc: 0.9789\n",
      "Epoch 25/30\n",
      "60000/60000 [==============================] - 6s - loss: 0.0025 - acc: 0.9999 - val_loss: 0.1044 - val_acc: 0.9797\n",
      "Epoch 26/30\n",
      "60000/60000 [==============================] - 8s - loss: 0.0025 - acc: 0.9999 - val_loss: 0.1050 - val_acc: 0.9789\n",
      "Epoch 27/30\n",
      "60000/60000 [==============================] - 8s - loss: 0.0024 - acc: 0.9999 - val_loss: 0.1055 - val_acc: 0.9791\n",
      "Epoch 28/30\n",
      "60000/60000 [==============================] - 8s - loss: 0.0023 - acc: 0.9999 - val_loss: 0.1069 - val_acc: 0.9793\n",
      "Epoch 29/30\n",
      "60000/60000 [==============================] - 6s - loss: 0.0023 - acc: 0.9999 - val_loss: 0.1072 - val_acc: 0.9796\n",
      "Epoch 30/30\n",
      "60000/60000 [==============================] - 8s - loss: 0.0023 - acc: 0.9999 - val_loss: 0.1085 - val_acc: 0.9794\n"
     ]
    }
   ],
   "source": [
    "hist = model.fit(X_data, y,\n",
    "         nb_epoch=30,\n",
    "         shuffle=True,\n",
    "         batch_size=128,\n",
    "         validation_data=(X_test,y_test))"
   ]
  },
  {
   "cell_type": "code",
   "execution_count": 49,
   "metadata": {
    "collapsed": true
   },
   "outputs": [],
   "source": [
    "from keras.models import load_model\n",
    "import h5py\n",
    "\n",
    "model.save('tmodels/digit2.h5')  # creates a HDF5 file 'my_model.h5'\n",
    "f = h5py.File('tmodels/digit2.h5', 'r+')\n",
    "del f['optimizer_weights']\n",
    "f.close()"
   ]
  },
  {
   "cell_type": "code",
   "execution_count": 54,
   "metadata": {
    "collapsed": false
   },
   "outputs": [
    {
     "name": "stdout",
     "output_type": "stream",
     "text": [
      "3\n",
      "1\n",
      "2\n",
      "6\n",
      "5\n",
      "4\n"
     ]
    }
   ],
   "source": [
    "for i in range(1,7):\n",
    "    im = cv2.imread('timages/Digit'+str(i)+'.jpg',0)\n",
    "    im = im.flatten()\n",
    "    im = im[np.newaxis]\n",
    "    print model.predict_classes(im,verbose=0)[0]"
   ]
  },
  {
   "cell_type": "markdown",
   "metadata": {},
   "source": [
    "<h1> CNN Model using Keras </h1>"
   ]
  },
  {
   "cell_type": "code",
   "execution_count": 69,
   "metadata": {
    "collapsed": false
   },
   "outputs": [
    {
     "name": "stdout",
     "output_type": "stream",
     "text": [
      "(60000, 785)\n",
      "(60000, 1, 28, 28) (60000,)\n"
     ]
    }
   ],
   "source": [
    "ds = pd.read_csv('data/mnist_train.csv',header=None)\n",
    "data = ds.values\n",
    "print data.shape\n",
    "X_train = data[:, 1:]\n",
    "y_train = data[:, 0]\n",
    "X_train = X_train.reshape(60000,1,28,28)\n",
    "print X_train.shape, y_train.shape"
   ]
  },
  {
   "cell_type": "code",
   "execution_count": 70,
   "metadata": {
    "collapsed": false
   },
   "outputs": [
    {
     "name": "stdout",
     "output_type": "stream",
     "text": [
      "(10000, 785)\n",
      "(10000, 1, 28, 28) (10000,)\n"
     ]
    }
   ],
   "source": [
    "dt = pd.read_csv('data/mnist_test.csv',header=None)\n",
    "dv = dt.values\n",
    "print dv.shape\n",
    "X_test = dv[:, 1:]\n",
    "y_test = dv[:, 0]\n",
    "X_test = X_test.reshape(10000,1,28,28)\n",
    "print X_test.shape, y_test.shape"
   ]
  },
  {
   "cell_type": "code",
   "execution_count": 71,
   "metadata": {
    "collapsed": true
   },
   "outputs": [],
   "source": [
    "X_train = X_train.astype('float32')\n",
    "X_test = X_test.astype('float32')\n",
    "X_train /= 255\n",
    "X_test /= 255"
   ]
  },
  {
   "cell_type": "code",
   "execution_count": 72,
   "metadata": {
    "collapsed": true
   },
   "outputs": [],
   "source": [
    "y_train = np_utils.to_categorical(y_train)\n",
    "y_test = np_utils.to_categorical(y_test)"
   ]
  },
  {
   "cell_type": "code",
   "execution_count": 93,
   "metadata": {
    "collapsed": true
   },
   "outputs": [],
   "source": [
    "filters = 32\n",
    "kernel_size = (3,3)\n",
    "batch_size = 128\n",
    "nb_epoch = 15"
   ]
  },
  {
   "cell_type": "code",
   "execution_count": 89,
   "metadata": {
    "collapsed": false
   },
   "outputs": [
    {
     "name": "stdout",
     "output_type": "stream",
     "text": [
      "____________________________________________________________________________________________________\n",
      "Layer (type)                     Output Shape          Param #     Connected to                     \n",
      "====================================================================================================\n",
      "convolution2d_13 (Convolution2D) (None, 16, 26, 26)    160         convolution2d_input_12[0][0]     \n",
      "____________________________________________________________________________________________________\n",
      "activation_28 (Activation)       (None, 16, 26, 26)    0           convolution2d_13[0][0]           \n",
      "____________________________________________________________________________________________________\n",
      "convolution2d_14 (Convolution2D) (None, 16, 24, 24)    2320        activation_28[0][0]              \n",
      "____________________________________________________________________________________________________\n",
      "activation_29 (Activation)       (None, 16, 24, 24)    0           convolution2d_14[0][0]           \n",
      "____________________________________________________________________________________________________\n",
      "maxpooling2d_10 (MaxPooling2D)   (None, 16, 12, 12)    0           activation_29[0][0]              \n",
      "____________________________________________________________________________________________________\n",
      "dropout_5 (Dropout)              (None, 16, 12, 12)    0           maxpooling2d_10[0][0]            \n",
      "____________________________________________________________________________________________________\n",
      "flatten_9 (Flatten)              (None, 2304)          0           dropout_5[0][0]                  \n",
      "____________________________________________________________________________________________________\n",
      "dense_17 (Dense)                 (None, 128)           295040      flatten_9[0][0]                  \n",
      "____________________________________________________________________________________________________\n",
      "activation_30 (Activation)       (None, 128)           0           dense_17[0][0]                   \n",
      "____________________________________________________________________________________________________\n",
      "dropout_6 (Dropout)              (None, 128)           0           activation_30[0][0]              \n",
      "____________________________________________________________________________________________________\n",
      "dense_18 (Dense)                 (None, 10)            1290        dropout_6[0][0]                  \n",
      "____________________________________________________________________________________________________\n",
      "activation_31 (Activation)       (None, 10)            0           dense_18[0][0]                   \n",
      "====================================================================================================\n",
      "Total params: 298810\n",
      "____________________________________________________________________________________________________\n"
     ]
    }
   ],
   "source": [
    "conv_model = Sequential()\n",
    "\n",
    "conv_model.add(Convolution2D(filters, kernel_size[0], kernel_size[1], input_shape=(1, 28, 28)))\n",
    "conv_model.add(Activation('relu'))\n",
    "conv_model.add(Convolution2D(filters, kernel_size[0], kernel_size[1]))\n",
    "conv_model.add(Activation('relu'))\n",
    "conv_model.add(MaxPooling2D(pool_size=(2,2)))\n",
    "conv_model.add(Dropout(0.25))\n",
    "conv_model.add(Flatten())\n",
    "conv_model.add(Dense(128))\n",
    "conv_model.add(Activation('relu'))\n",
    "conv_model.add(Dropout(0.5))\n",
    "conv_model.add(Dense(10))\n",
    "conv_model.add(Activation('softmax'))\n",
    "\n",
    "conv_model.summary()"
   ]
  },
  {
   "cell_type": "code",
   "execution_count": 90,
   "metadata": {
    "collapsed": true
   },
   "outputs": [],
   "source": [
    "conv_model.compile(loss='categorical_crossentropy', optimizer='adadelta', metrics=['accuracy'])"
   ]
  },
  {
   "cell_type": "code",
   "execution_count": 94,
   "metadata": {
    "collapsed": false
   },
   "outputs": [
    {
     "name": "stdout",
     "output_type": "stream",
     "text": [
      "Train on 60000 samples, validate on 10000 samples\n",
      "Epoch 1/7\n",
      "60000/60000 [==============================] - 52s - loss: 0.0534 - acc: 0.9839 - val_loss: 0.0335 - val_acc: 0.9887\n",
      "Epoch 2/7\n",
      "60000/60000 [==============================] - 56s - loss: 0.0516 - acc: 0.9839 - val_loss: 0.0320 - val_acc: 0.9891\n",
      "Epoch 3/7\n",
      "60000/60000 [==============================] - 57s - loss: 0.0505 - acc: 0.9850 - val_loss: 0.0313 - val_acc: 0.9893\n",
      "Epoch 4/7\n",
      "60000/60000 [==============================] - 61s - loss: 0.0493 - acc: 0.9852 - val_loss: 0.0305 - val_acc: 0.9900\n",
      "Epoch 5/7\n",
      "60000/60000 [==============================] - 62s - loss: 0.0469 - acc: 0.9859 - val_loss: 0.0305 - val_acc: 0.9892\n",
      "Epoch 6/7\n",
      "60000/60000 [==============================] - 61s - loss: 0.0453 - acc: 0.9860 - val_loss: 0.0309 - val_acc: 0.9899\n",
      "Epoch 7/7\n",
      "60000/60000 [==============================] - 60s - loss: 0.0458 - acc: 0.9862 - val_loss: 0.0291 - val_acc: 0.9897\n"
     ]
    },
    {
     "data": {
      "text/plain": [
       "<keras.callbacks.History at 0x7f9fb9547550>"
      ]
     },
     "execution_count": 94,
     "metadata": {},
     "output_type": "execute_result"
    }
   ],
   "source": [
    "conv_model.fit(X_train, y_train, batch_size=batch_size, nb_epoch=nb_epoch,\n",
    "          verbose=1, validation_data=(X_test, y_test))"
   ]
  },
  {
   "cell_type": "code",
   "execution_count": 92,
   "metadata": {
    "collapsed": true
   },
   "outputs": [],
   "source": [
    "model.save('tmodels/cDigit1.h5')  # creates a HDF5 file 'my_model.h5'\n",
    "# f = h5py.File('tmodels/cDigit.h5', 'r+')\n",
    "# del f['optimizer_weights']\n",
    "# f.close()"
   ]
  },
  {
   "cell_type": "code",
   "execution_count": null,
   "metadata": {
    "collapsed": true
   },
   "outputs": [],
   "source": []
  }
 ],
 "metadata": {
  "anaconda-cloud": {},
  "kernelspec": {
   "display_name": "Python [conda env:mlBootCamp]",
   "language": "python",
   "name": "conda-env-mlBootCamp-py"
  },
  "language_info": {
   "codemirror_mode": {
    "name": "ipython",
    "version": 2
   },
   "file_extension": ".py",
   "mimetype": "text/x-python",
   "name": "python",
   "nbconvert_exporter": "python",
   "pygments_lexer": "ipython2",
   "version": "2.7.12"
  }
 },
 "nbformat": 4,
 "nbformat_minor": 2
}
